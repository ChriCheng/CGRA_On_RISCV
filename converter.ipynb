{
 "cells": [
  {
   "cell_type": "code",
   "execution_count": 17,
   "metadata": {},
   "outputs": [
    {
     "name": "stdout",
     "output_type": "stream",
     "text": [
      "0050100b\n"
     ]
    }
   ],
   "source": [
    "def binary_to_hex(binary_input):\n",
    "    # 清除输入中的分隔符和空格\n",
    "    binary_cleaned = binary_input.replace('|', '').replace(' ', '')\n",
    "\n",
    "    # 将二进制转换为十六进制\n",
    "    hex_output = hex(int(binary_cleaned, 2))[2:]  # [2:] 用于去掉前面的 '0x'\n",
    "\n",
    "    # 格式化输出，确保输出为7个字符，不足补0\n",
    "    formatted_hex_output = hex_output.zfill(8)\n",
    "\n",
    "    # 返回最终结果\n",
    "    return formatted_hex_output \n",
    "\n",
    "# 示例输入\n",
    "binary_input = \"|    0000000    |   00101    |   00000    |      001      |  00000   |   0001011   |\"\n",
    "\n",
    "# 调用函数并打印结果\n",
    "output = binary_to_hex(binary_input)\n",
    "print(output)\n"
   ]
  }
 ],
 "metadata": {
  "kernelspec": {
   "display_name": "base",
   "language": "python",
   "name": "python3"
  },
  "language_info": {
   "codemirror_mode": {
    "name": "ipython",
    "version": 3
   },
   "file_extension": ".py",
   "mimetype": "text/x-python",
   "name": "python",
   "nbconvert_exporter": "python",
   "pygments_lexer": "ipython3",
   "version": "3.11.7"
  }
 },
 "nbformat": 4,
 "nbformat_minor": 2
}
